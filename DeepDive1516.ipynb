{
 "cells": [
  {
   "cell_type": "code",
   "execution_count": 8,
   "id": "716b2d93-1a89-4fa2-b1d3-f134fa6deef6",
   "metadata": {},
   "outputs": [],
   "source": [
    "import pandas as pd\n",
    "import numpy as np"
   ]
  },
  {
   "cell_type": "code",
   "execution_count": 9,
   "id": "3ccef321-a74b-4ec9-a79f-399c797e6794",
   "metadata": {},
   "outputs": [],
   "source": [
    "data_drill1516 = pd.read_excel(r'Data Sources/accdrilldwn1516_4Pandas.xlsx')"
   ]
  },
  {
   "cell_type": "code",
   "execution_count": 10,
   "id": "58b57983-82d5-4b21-b566-f123eb0133b7",
   "metadata": {},
   "outputs": [
    {
     "data": {
      "text/plain": [
       "Index(['District Name', 'School Code', 'School Name', 'SBE District',\n",
       "       'Subject', 'Standard (CCR - Level 4 & 5, GLP - Level 3 & Above)',\n",
       "       'All Students', 'Female', ' Male', 'American Indian', 'Asian', 'Black',\n",
       "       'Hispanic', 'Two or More Races', ' White', 'EDS', 'LEP', 'SWD', 'AIG',\n",
       "       'All Students.1', 'Female.1', ' Male.1', 'American Indian.1', 'Asian.1',\n",
       "       'Black.1', 'Hispanic.1', 'Two or More Races.1', ' White.1', 'EDS.1',\n",
       "       'LEP.1', 'SWD.1', 'AIG.1'],\n",
       "      dtype='object')"
      ]
     },
     "execution_count": 10,
     "metadata": {},
     "output_type": "execute_result"
    }
   ],
   "source": [
    "data_drill1516.columns"
   ]
  },
  {
   "cell_type": "code",
   "execution_count": 12,
   "id": "a5f58f5e-d14d-4d76-8e59-50776307d441",
   "metadata": {},
   "outputs": [],
   "source": [
    "data_drill1516_df = pd.DataFrame(data_drill1516, columns=['District Name', 'School Code', 'School Name', 'Subject', 'All Students', 'Female', ' Male', 'Black', 'Hispanic', ' White'])"
   ]
  },
  {
   "cell_type": "code",
   "execution_count": 13,
   "id": "40cbdcd7-21ad-491d-9d62-9db23cd8d6f8",
   "metadata": {},
   "outputs": [
    {
     "data": {
      "text/html": [
       "<div>\n",
       "<style scoped>\n",
       "    .dataframe tbody tr th:only-of-type {\n",
       "        vertical-align: middle;\n",
       "    }\n",
       "\n",
       "    .dataframe tbody tr th {\n",
       "        vertical-align: top;\n",
       "    }\n",
       "\n",
       "    .dataframe thead th {\n",
       "        text-align: right;\n",
       "    }\n",
       "</style>\n",
       "<table border=\"1\" class=\"dataframe\">\n",
       "  <thead>\n",
       "    <tr style=\"text-align: right;\">\n",
       "      <th></th>\n",
       "      <th>District Name</th>\n",
       "      <th>School Code</th>\n",
       "      <th>School Name</th>\n",
       "      <th>Subject</th>\n",
       "      <th>All Students</th>\n",
       "      <th>Female</th>\n",
       "      <th>Male</th>\n",
       "      <th>Black</th>\n",
       "      <th>Hispanic</th>\n",
       "      <th>White</th>\n",
       "    </tr>\n",
       "  </thead>\n",
       "  <tbody>\n",
       "    <tr>\n",
       "      <th>0</th>\n",
       "      <td>State of North Carolina</td>\n",
       "      <td>NC</td>\n",
       "      <td>State of North Carolina</td>\n",
       "      <td>All EOG/EOC Subjects</td>\n",
       "      <td>48.8</td>\n",
       "      <td>50.8</td>\n",
       "      <td>47.0</td>\n",
       "      <td>29.5</td>\n",
       "      <td>37.2</td>\n",
       "      <td>61.3</td>\n",
       "    </tr>\n",
       "    <tr>\n",
       "      <th>1</th>\n",
       "      <td>State of North Carolina</td>\n",
       "      <td>NC</td>\n",
       "      <td>State of North Carolina</td>\n",
       "      <td>All EOC Subjects</td>\n",
       "      <td>49.0</td>\n",
       "      <td>51.7</td>\n",
       "      <td>46.4</td>\n",
       "      <td>28.0</td>\n",
       "      <td>36.9</td>\n",
       "      <td>61.5</td>\n",
       "    </tr>\n",
       "    <tr>\n",
       "      <th>2</th>\n",
       "      <td>State of North Carolina</td>\n",
       "      <td>NC</td>\n",
       "      <td>State of North Carolina</td>\n",
       "      <td>EOC Biology</td>\n",
       "      <td>47.3</td>\n",
       "      <td>47.5</td>\n",
       "      <td>47.1</td>\n",
       "      <td>26.2</td>\n",
       "      <td>35.7</td>\n",
       "      <td>60.0</td>\n",
       "    </tr>\n",
       "    <tr>\n",
       "      <th>3</th>\n",
       "      <td>State of North Carolina</td>\n",
       "      <td>NC</td>\n",
       "      <td>State of North Carolina</td>\n",
       "      <td>EOC English 2</td>\n",
       "      <td>49.6</td>\n",
       "      <td>56.1</td>\n",
       "      <td>43.4</td>\n",
       "      <td>30.9</td>\n",
       "      <td>36.5</td>\n",
       "      <td>62.2</td>\n",
       "    </tr>\n",
       "    <tr>\n",
       "      <th>4</th>\n",
       "      <td>State of North Carolina</td>\n",
       "      <td>NC</td>\n",
       "      <td>State of North Carolina</td>\n",
       "      <td>EOC Math I</td>\n",
       "      <td>49.8</td>\n",
       "      <td>51.6</td>\n",
       "      <td>48.1</td>\n",
       "      <td>26.9</td>\n",
       "      <td>38.2</td>\n",
       "      <td>62.0</td>\n",
       "    </tr>\n",
       "    <tr>\n",
       "      <th>...</th>\n",
       "      <td>...</td>\n",
       "      <td>...</td>\n",
       "      <td>...</td>\n",
       "      <td>...</td>\n",
       "      <td>...</td>\n",
       "      <td>...</td>\n",
       "      <td>...</td>\n",
       "      <td>...</td>\n",
       "      <td>...</td>\n",
       "      <td>...</td>\n",
       "    </tr>\n",
       "    <tr>\n",
       "      <th>84944</th>\n",
       "      <td>Charter Schools</td>\n",
       "      <td>98B000</td>\n",
       "      <td>Wilson Preparatory Academy</td>\n",
       "      <td>EOG Math Grade 7</td>\n",
       "      <td>60.5</td>\n",
       "      <td>65.0</td>\n",
       "      <td>56.5</td>\n",
       "      <td>46.7</td>\n",
       "      <td>*</td>\n",
       "      <td>66.7</td>\n",
       "    </tr>\n",
       "    <tr>\n",
       "      <th>84945</th>\n",
       "      <td>Charter Schools</td>\n",
       "      <td>98B000</td>\n",
       "      <td>Wilson Preparatory Academy</td>\n",
       "      <td>EOG Math Grade 8</td>\n",
       "      <td>30.6</td>\n",
       "      <td>50.0</td>\n",
       "      <td>18.2</td>\n",
       "      <td>22.2</td>\n",
       "      <td>*</td>\n",
       "      <td>33.3</td>\n",
       "    </tr>\n",
       "    <tr>\n",
       "      <th>84946</th>\n",
       "      <td>Charter Schools</td>\n",
       "      <td>98B000</td>\n",
       "      <td>Wilson Preparatory Academy</td>\n",
       "      <td>EOG Science Grades 5&amp;8</td>\n",
       "      <td>86.9</td>\n",
       "      <td>88.2</td>\n",
       "      <td>86.0</td>\n",
       "      <td>82.4</td>\n",
       "      <td>*</td>\n",
       "      <td>89.5</td>\n",
       "    </tr>\n",
       "    <tr>\n",
       "      <th>84947</th>\n",
       "      <td>Charter Schools</td>\n",
       "      <td>98B000</td>\n",
       "      <td>Wilson Preparatory Academy</td>\n",
       "      <td>EOG Science Grade 5</td>\n",
       "      <td>87.5</td>\n",
       "      <td>90.0</td>\n",
       "      <td>85.7</td>\n",
       "      <td>68.8</td>\n",
       "      <td>*</td>\n",
       "      <td>&gt;95</td>\n",
       "    </tr>\n",
       "    <tr>\n",
       "      <th>84948</th>\n",
       "      <td>Charter Schools</td>\n",
       "      <td>98B000</td>\n",
       "      <td>Wilson Preparatory Academy</td>\n",
       "      <td>EOG Science Grade 8</td>\n",
       "      <td>86.1</td>\n",
       "      <td>85.7</td>\n",
       "      <td>86.4</td>\n",
       "      <td>94.4</td>\n",
       "      <td>*</td>\n",
       "      <td>80.0</td>\n",
       "    </tr>\n",
       "  </tbody>\n",
       "</table>\n",
       "<p>84949 rows × 10 columns</p>\n",
       "</div>"
      ],
      "text/plain": [
       "                 District Name School Code                 School Name  \\\n",
       "0      State of North Carolina          NC     State of North Carolina   \n",
       "1      State of North Carolina          NC     State of North Carolina   \n",
       "2      State of North Carolina          NC     State of North Carolina   \n",
       "3      State of North Carolina          NC     State of North Carolina   \n",
       "4      State of North Carolina          NC     State of North Carolina   \n",
       "...                        ...         ...                         ...   \n",
       "84944          Charter Schools      98B000  Wilson Preparatory Academy   \n",
       "84945          Charter Schools      98B000  Wilson Preparatory Academy   \n",
       "84946          Charter Schools      98B000  Wilson Preparatory Academy   \n",
       "84947          Charter Schools      98B000  Wilson Preparatory Academy   \n",
       "84948          Charter Schools      98B000  Wilson Preparatory Academy   \n",
       "\n",
       "                      Subject All Students Female  Male Black Hispanic  White  \n",
       "0        All EOG/EOC Subjects         48.8   50.8  47.0  29.5     37.2   61.3  \n",
       "1            All EOC Subjects         49.0   51.7  46.4  28.0     36.9   61.5  \n",
       "2                 EOC Biology         47.3   47.5  47.1  26.2     35.7   60.0  \n",
       "3               EOC English 2         49.6   56.1  43.4  30.9     36.5   62.2  \n",
       "4                  EOC Math I         49.8   51.6  48.1  26.9     38.2   62.0  \n",
       "...                       ...          ...    ...   ...   ...      ...    ...  \n",
       "84944        EOG Math Grade 7         60.5   65.0  56.5  46.7        *   66.7  \n",
       "84945        EOG Math Grade 8         30.6   50.0  18.2  22.2        *   33.3  \n",
       "84946  EOG Science Grades 5&8         86.9   88.2  86.0  82.4        *   89.5  \n",
       "84947     EOG Science Grade 5         87.5   90.0  85.7  68.8        *    >95  \n",
       "84948     EOG Science Grade 8         86.1   85.7  86.4  94.4        *   80.0  \n",
       "\n",
       "[84949 rows x 10 columns]"
      ]
     },
     "execution_count": 13,
     "metadata": {},
     "output_type": "execute_result"
    }
   ],
   "source": [
    "data_drill1516_df"
   ]
  },
  {
   "cell_type": "code",
   "execution_count": 14,
   "id": "4b952349-e7f0-4fcb-8df7-16e99b58d51d",
   "metadata": {},
   "outputs": [
    {
     "data": {
      "text/plain": [
       "Charter Schools                  7236\n",
       "Charlotte-Mecklenburg Schools    5277\n",
       "Wake County Schools              5135\n",
       "Guilford County Schools          3643\n",
       "Cumberland County Schools        2440\n",
       "                                 ... \n",
       "Tyrrell County Schools            150\n",
       "Clay County Schools               148\n",
       "State of North Carolina            69\n",
       "Deaf and Blind Schools             51\n",
       "Regional Schools                   19\n",
       "Name: District Name, Length: 119, dtype: int64"
      ]
     },
     "execution_count": 14,
     "metadata": {},
     "output_type": "execute_result"
    }
   ],
   "source": [
    "data_drill1516_df['District Name'].value_counts()"
   ]
  },
  {
   "cell_type": "code",
   "execution_count": 16,
   "id": "8d9a958b-b7bc-46ba-95d1-afd5931e483f",
   "metadata": {},
   "outputs": [],
   "source": [
    "df_charmeck1516 = data_drill1516_df.loc[data_drill1516_df['District Name'] == \"Charlotte-Mecklenburg Schools\"]"
   ]
  },
  {
   "cell_type": "code",
   "execution_count": 17,
   "id": "51a1ec98-4bcf-4d00-b873-e95fb4cd1a34",
   "metadata": {},
   "outputs": [
    {
     "data": {
      "text/html": [
       "<div>\n",
       "<style scoped>\n",
       "    .dataframe tbody tr th:only-of-type {\n",
       "        vertical-align: middle;\n",
       "    }\n",
       "\n",
       "    .dataframe tbody tr th {\n",
       "        vertical-align: top;\n",
       "    }\n",
       "\n",
       "    .dataframe thead th {\n",
       "        text-align: right;\n",
       "    }\n",
       "</style>\n",
       "<table border=\"1\" class=\"dataframe\">\n",
       "  <thead>\n",
       "    <tr style=\"text-align: right;\">\n",
       "      <th></th>\n",
       "      <th>District Name</th>\n",
       "      <th>School Code</th>\n",
       "      <th>School Name</th>\n",
       "      <th>Subject</th>\n",
       "      <th>All Students</th>\n",
       "      <th>Female</th>\n",
       "      <th>Male</th>\n",
       "      <th>Black</th>\n",
       "      <th>Hispanic</th>\n",
       "      <th>White</th>\n",
       "    </tr>\n",
       "  </thead>\n",
       "  <tbody>\n",
       "    <tr>\n",
       "      <th>42539</th>\n",
       "      <td>Charlotte-Mecklenburg Schools</td>\n",
       "      <td>600</td>\n",
       "      <td>Charlotte-Mecklenburg Schools</td>\n",
       "      <td>All EOG/EOC Subjects</td>\n",
       "      <td>52.8</td>\n",
       "      <td>55.3</td>\n",
       "      <td>50.3</td>\n",
       "      <td>36.5</td>\n",
       "      <td>40.7</td>\n",
       "      <td>79.2</td>\n",
       "    </tr>\n",
       "    <tr>\n",
       "      <th>42540</th>\n",
       "      <td>Charlotte-Mecklenburg Schools</td>\n",
       "      <td>600</td>\n",
       "      <td>Charlotte-Mecklenburg Schools</td>\n",
       "      <td>All EOC Subjects</td>\n",
       "      <td>54.8</td>\n",
       "      <td>58.4</td>\n",
       "      <td>51.3</td>\n",
       "      <td>36.0</td>\n",
       "      <td>41.8</td>\n",
       "      <td>82.1</td>\n",
       "    </tr>\n",
       "    <tr>\n",
       "      <th>42541</th>\n",
       "      <td>Charlotte-Mecklenburg Schools</td>\n",
       "      <td>600</td>\n",
       "      <td>Charlotte-Mecklenburg Schools</td>\n",
       "      <td>EOC Biology</td>\n",
       "      <td>52.4</td>\n",
       "      <td>54.5</td>\n",
       "      <td>50.2</td>\n",
       "      <td>33.9</td>\n",
       "      <td>41.4</td>\n",
       "      <td>79.1</td>\n",
       "    </tr>\n",
       "    <tr>\n",
       "      <th>42542</th>\n",
       "      <td>Charlotte-Mecklenburg Schools</td>\n",
       "      <td>600</td>\n",
       "      <td>Charlotte-Mecklenburg Schools</td>\n",
       "      <td>EOC English 2</td>\n",
       "      <td>52.7</td>\n",
       "      <td>59.4</td>\n",
       "      <td>46.1</td>\n",
       "      <td>37.4</td>\n",
       "      <td>39.8</td>\n",
       "      <td>80.6</td>\n",
       "    </tr>\n",
       "    <tr>\n",
       "      <th>42543</th>\n",
       "      <td>Charlotte-Mecklenburg Schools</td>\n",
       "      <td>600</td>\n",
       "      <td>Charlotte-Mecklenburg Schools</td>\n",
       "      <td>EOC Math I</td>\n",
       "      <td>58.1</td>\n",
       "      <td>60.5</td>\n",
       "      <td>55.8</td>\n",
       "      <td>36.4</td>\n",
       "      <td>43.6</td>\n",
       "      <td>85.1</td>\n",
       "    </tr>\n",
       "    <tr>\n",
       "      <th>...</th>\n",
       "      <td>...</td>\n",
       "      <td>...</td>\n",
       "      <td>...</td>\n",
       "      <td>...</td>\n",
       "      <td>...</td>\n",
       "      <td>...</td>\n",
       "      <td>...</td>\n",
       "      <td>...</td>\n",
       "      <td>...</td>\n",
       "      <td>...</td>\n",
       "    </tr>\n",
       "    <tr>\n",
       "      <th>47811</th>\n",
       "      <td>Charlotte-Mecklenburg Schools</td>\n",
       "      <td>600697</td>\n",
       "      <td>Olympic High - Biotech Health Pub Admin</td>\n",
       "      <td>The ACT - Science</td>\n",
       "      <td>18.3</td>\n",
       "      <td>23.1</td>\n",
       "      <td>12.0</td>\n",
       "      <td>16.9</td>\n",
       "      <td>&lt;5</td>\n",
       "      <td>31.3</td>\n",
       "    </tr>\n",
       "    <tr>\n",
       "      <th>47812</th>\n",
       "      <td>Charlotte-Mecklenburg Schools</td>\n",
       "      <td>600697</td>\n",
       "      <td>Olympic High - Biotech Health Pub Admin</td>\n",
       "      <td>The ACT - Writing</td>\n",
       "      <td>20.2</td>\n",
       "      <td>28.1</td>\n",
       "      <td>10.0</td>\n",
       "      <td>15.5</td>\n",
       "      <td>21.7</td>\n",
       "      <td>25.0</td>\n",
       "    </tr>\n",
       "    <tr>\n",
       "      <th>47813</th>\n",
       "      <td>Charlotte-Mecklenburg Schools</td>\n",
       "      <td>600697</td>\n",
       "      <td>Olympic High - Biotech Health Pub Admin</td>\n",
       "      <td>The ACT - All Subtests</td>\n",
       "      <td>21.8</td>\n",
       "      <td>25.9</td>\n",
       "      <td>16.4</td>\n",
       "      <td>18.7</td>\n",
       "      <td>17.4</td>\n",
       "      <td>31.3</td>\n",
       "    </tr>\n",
       "    <tr>\n",
       "      <th>47814</th>\n",
       "      <td>Charlotte-Mecklenburg Schools</td>\n",
       "      <td>600697</td>\n",
       "      <td>Olympic High - Biotech Health Pub Admin</td>\n",
       "      <td>Math Course Rigor</td>\n",
       "      <td>&gt;95</td>\n",
       "      <td>&gt;95</td>\n",
       "      <td>&gt;95</td>\n",
       "      <td>&gt;95</td>\n",
       "      <td>&gt;95</td>\n",
       "      <td>&gt;95</td>\n",
       "    </tr>\n",
       "    <tr>\n",
       "      <th>47815</th>\n",
       "      <td>Charlotte-Mecklenburg Schools</td>\n",
       "      <td>600697</td>\n",
       "      <td>Olympic High - Biotech Health Pub Admin</td>\n",
       "      <td>ACT WorkKeys</td>\n",
       "      <td>82.5</td>\n",
       "      <td>73.1</td>\n",
       "      <td>&gt;95</td>\n",
       "      <td>75.0</td>\n",
       "      <td>*</td>\n",
       "      <td>*</td>\n",
       "    </tr>\n",
       "  </tbody>\n",
       "</table>\n",
       "<p>5277 rows × 10 columns</p>\n",
       "</div>"
      ],
      "text/plain": [
       "                       District Name School Code  \\\n",
       "42539  Charlotte-Mecklenburg Schools         600   \n",
       "42540  Charlotte-Mecklenburg Schools         600   \n",
       "42541  Charlotte-Mecklenburg Schools         600   \n",
       "42542  Charlotte-Mecklenburg Schools         600   \n",
       "42543  Charlotte-Mecklenburg Schools         600   \n",
       "...                              ...         ...   \n",
       "47811  Charlotte-Mecklenburg Schools      600697   \n",
       "47812  Charlotte-Mecklenburg Schools      600697   \n",
       "47813  Charlotte-Mecklenburg Schools      600697   \n",
       "47814  Charlotte-Mecklenburg Schools      600697   \n",
       "47815  Charlotte-Mecklenburg Schools      600697   \n",
       "\n",
       "                                   School Name                 Subject  \\\n",
       "42539            Charlotte-Mecklenburg Schools    All EOG/EOC Subjects   \n",
       "42540            Charlotte-Mecklenburg Schools        All EOC Subjects   \n",
       "42541            Charlotte-Mecklenburg Schools             EOC Biology   \n",
       "42542            Charlotte-Mecklenburg Schools           EOC English 2   \n",
       "42543            Charlotte-Mecklenburg Schools              EOC Math I   \n",
       "...                                        ...                     ...   \n",
       "47811  Olympic High - Biotech Health Pub Admin       The ACT - Science   \n",
       "47812  Olympic High - Biotech Health Pub Admin       The ACT - Writing   \n",
       "47813  Olympic High - Biotech Health Pub Admin  The ACT - All Subtests   \n",
       "47814  Olympic High - Biotech Health Pub Admin       Math Course Rigor   \n",
       "47815  Olympic High - Biotech Health Pub Admin            ACT WorkKeys   \n",
       "\n",
       "      All Students Female  Male Black Hispanic  White  \n",
       "42539         52.8   55.3  50.3  36.5     40.7   79.2  \n",
       "42540         54.8   58.4  51.3  36.0     41.8   82.1  \n",
       "42541         52.4   54.5  50.2  33.9     41.4   79.1  \n",
       "42542         52.7   59.4  46.1  37.4     39.8   80.6  \n",
       "42543         58.1   60.5  55.8  36.4     43.6   85.1  \n",
       "...            ...    ...   ...   ...      ...    ...  \n",
       "47811         18.3   23.1  12.0  16.9       <5   31.3  \n",
       "47812         20.2   28.1  10.0  15.5     21.7   25.0  \n",
       "47813         21.8   25.9  16.4  18.7     17.4   31.3  \n",
       "47814          >95    >95   >95   >95      >95    >95  \n",
       "47815         82.5   73.1   >95  75.0        *      *  \n",
       "\n",
       "[5277 rows x 10 columns]"
      ]
     },
     "execution_count": 17,
     "metadata": {},
     "output_type": "execute_result"
    }
   ],
   "source": [
    "df_charmeck1516"
   ]
  },
  {
   "cell_type": "code",
   "execution_count": 18,
   "id": "169bf101-e0cc-40b0-9088-11ebc1445210",
   "metadata": {},
   "outputs": [
    {
     "data": {
      "text/plain": [
       "Index(['District Name', 'School Code', 'School Name', 'Subject',\n",
       "       'All Students', 'Female', ' Male', 'Black', 'Hispanic', ' White'],\n",
       "      dtype='object')"
      ]
     },
     "execution_count": 18,
     "metadata": {},
     "output_type": "execute_result"
    }
   ],
   "source": [
    "df_charmeck1516.columns"
   ]
  },
  {
   "cell_type": "code",
   "execution_count": 19,
   "id": "f779c1ba-79c5-4743-9e4f-283b8a464982",
   "metadata": {},
   "outputs": [
    {
     "data": {
      "text/plain": [
       "Charlotte-Mecklenburg Schools    5277\n",
       "Name: District Name, dtype: int64"
      ]
     },
     "execution_count": 19,
     "metadata": {},
     "output_type": "execute_result"
    }
   ],
   "source": [
    "df_charmeck1516['District Name'].value_counts()"
   ]
  },
  {
   "cell_type": "code",
   "execution_count": 20,
   "id": "9640def2-4ed9-4453-97c4-530cc4d6ab77",
   "metadata": {},
   "outputs": [
    {
     "data": {
      "text/plain": [
       "600       69\n",
       "600364    68\n",
       "600577    54\n",
       "600344    54\n",
       "600532    54\n",
       "          ..\n",
       "600454    16\n",
       "600435    14\n",
       "600443    10\n",
       "600334    10\n",
       "600567    10\n",
       "Name: School Code, Length: 169, dtype: int64"
      ]
     },
     "execution_count": 20,
     "metadata": {},
     "output_type": "execute_result"
    }
   ],
   "source": [
    "df_charmeck1516['School Code'].value_counts()"
   ]
  },
  {
   "cell_type": "code",
   "execution_count": 21,
   "id": "620b47a0-a01c-4746-b791-2cb6aedde35b",
   "metadata": {},
   "outputs": [
    {
     "data": {
      "text/plain": [
       "Charlotte-Mecklenburg Schools               69\n",
       "Military and Global Leadership Academy      68\n",
       "Westerly Hills Academy                      54\n",
       "Collinswood Language Academy                54\n",
       "Waddell Language Academy                    54\n",
       "                                            ..\n",
       "Metro School                                16\n",
       "Trillium Springs Montessori                 14\n",
       "Levine Middle College High                  10\n",
       "Cato Middle College High                    10\n",
       "Charlotte Engineering Early College-UNCC    10\n",
       "Name: School Name, Length: 169, dtype: int64"
      ]
     },
     "execution_count": 21,
     "metadata": {},
     "output_type": "execute_result"
    }
   ],
   "source": [
    "df_charmeck1516['School Name'].value_counts()"
   ]
  },
  {
   "cell_type": "code",
   "execution_count": 22,
   "id": "6c8c7a3e-66a1-4c20-8389-4082823ef5ba",
   "metadata": {},
   "outputs": [
    {
     "data": {
      "text/plain": [
       "All EOG/EOC Subjects         334\n",
       "All EOG Subjects             282\n",
       "EOG Reading Grades 3-8       282\n",
       "EOG Math Grades 3-8          282\n",
       "EOG Science Grades 5&8       278\n",
       "EOG Grade 3                  222\n",
       "EOG Grade 4                  218\n",
       "EOG Grade 5                  218\n",
       "EOG Math Grade 3             218\n",
       "EOG Reading Grade 3          218\n",
       "EOG Math Grade 4             216\n",
       "EOG Science Grade 5          216\n",
       "EOG Math Grade 5             216\n",
       "EOG Reading Grade 4          216\n",
       "EOG Reading Grade 5          216\n",
       "All EOC Subjects             132\n",
       "EOC Math I                   130\n",
       "EOG Grade 6                  100\n",
       "EOG Reading Grade 6           96\n",
       "EOG Math Grade 6              96\n",
       "EOG Grade 7                   94\n",
       "EOG Reading Grade 7           92\n",
       "EOG Math Grade 7              92\n",
       "EOG Math Grade 8              90\n",
       "EOG Reading Grade 8           90\n",
       "EOG Science Grade 8           90\n",
       "EOG Grade 8                   90\n",
       "EOC English 2                 62\n",
       "EOC Biology                   62\n",
       "Graduation Rate               60\n",
       "The ACT - All Subtests        32\n",
       "The ACT - Composite Score     31\n",
       "The ACT - English             31\n",
       "The ACT - Reading             31\n",
       "The ACT - Math                31\n",
       "The ACT - Science             31\n",
       "The ACT - Writing             31\n",
       "Math Course Rigor             30\n",
       "ACT WorkKeys                  21\n",
       "Name: Subject, dtype: int64"
      ]
     },
     "execution_count": 22,
     "metadata": {},
     "output_type": "execute_result"
    }
   ],
   "source": [
    "df_charmeck1516['Subject'].value_counts()"
   ]
  },
  {
   "cell_type": "code",
   "execution_count": 36,
   "id": "a89b1e82-7cef-4663-9f01-75e8a8fbf0a4",
   "metadata": {},
   "outputs": [
    {
     "data": {
      "text/plain": [
       "42539      All EOG/EOC Subjects\n",
       "42540          All EOC Subjects\n",
       "42541               EOC Biology\n",
       "42542             EOC English 2\n",
       "42543                EOC Math I\n",
       "                  ...          \n",
       "47811         The ACT - Science\n",
       "47812         The ACT - Writing\n",
       "47813    The ACT - All Subtests\n",
       "47814         Math Course Rigor\n",
       "47815              ACT WorkKeys\n",
       "Name: Subject, Length: 5277, dtype: object"
      ]
     },
     "execution_count": 36,
     "metadata": {},
     "output_type": "execute_result"
    }
   ],
   "source": [
    "df_charmeck1516['Subject']"
   ]
  },
  {
   "cell_type": "code",
   "execution_count": 30,
   "id": "760bc6cd-a9cf-4142-8b55-3e07405cfe8a",
   "metadata": {},
   "outputs": [
    {
     "data": {
      "text/plain": [
       "5277"
      ]
     },
     "execution_count": 30,
     "metadata": {},
     "output_type": "execute_result"
    }
   ],
   "source": [
    "len(df_charmeck1516)"
   ]
  },
  {
   "cell_type": "code",
   "execution_count": 33,
   "id": "249d8de6-ec3e-4698-9277-3d71e3497951",
   "metadata": {},
   "outputs": [],
   "source": [
    "Acad_kpi = df_charmeck1516['Subject'].isin([\"The ACT - Composite Score\", \"ACT WorkKeys\", \"Graduation Rate\"])"
   ]
  },
  {
   "cell_type": "code",
   "execution_count": 35,
   "id": "52eac013-28ff-4fb4-a90f-2d1d3d847441",
   "metadata": {},
   "outputs": [
    {
     "data": {
      "text/plain": [
       "112"
      ]
     },
     "execution_count": 35,
     "metadata": {},
     "output_type": "execute_result"
    }
   ],
   "source": [
    "df_charmeck1516_kpi = df_charmeck1516[Acad_kpi]\n",
    "len(df_charmeck1516_kpi)"
   ]
  },
  {
   "cell_type": "code",
   "execution_count": null,
   "id": "1025c18e-6584-4f58-89d7-5214906c702b",
   "metadata": {},
   "outputs": [],
   "source": []
  },
  {
   "cell_type": "code",
   "execution_count": null,
   "id": "08f4aa3a-a6ed-4617-9947-1a868d331e88",
   "metadata": {},
   "outputs": [],
   "source": [
    "# schools = [school_name,LEA\n",
    "# Ardrey Kell High School,600302\n",
    "# Butler High School,600361\n",
    "# Cato Middle College High School,600334\n",
    "# Charlotte Engineering Early College,600567\n",
    "# Charlotte Teacher Early College,\n",
    "# Charlotte-Mecklenburg Virtual High School,\n",
    "# East Mecklenburg High School,600377\n",
    "# Garinger High School,600397\n",
    "# Harding University High School,600405\n",
    "# Harper Middle College High School,600404\n",
    "# Hawthorne Academy of Health Sciences,600386\n",
    "# Hopewell High School,600415\n",
    "# Independence High School,600426\n",
    "# John Taylor Williams Secondary Montessori,\n",
    "# Julius L. Chambers High School,\n",
    "# Levine Middle College High,600443\n",
    "# Mallard Creek High School,600445\n",
    "# Merancas Middle College @ CPCC,\n",
    "# Military and Global Leadership Academy,600364\n",
    "# Myers Park High School,600466\n",
    "# North Mecklenburg High School,600480\n",
    "# Northwest School of the Arts,600482\n",
    "# Olympic High School,\n",
    "# Performance Learning Center,600498\n",
    "# Phillip O. Berry Academy of Technology,600496\n",
    "# Providence High School,600508\n",
    "# Rocky River High School,600457\n",
    "# South Mecklenburg High School,600535\n",
    "# West Charlotte High School,600576\n",
    "# West Mecklenburg High School,600579\n",
    "# William Amos Hough High School,600312\n",
    "# Turning Point Academy,\n",
    "# Charlotte-Mecklenburg Academy,\n",
    "# Metro School,\n",
    "# ]"
   ]
  },
  {
   "cell_type": "code",
   "execution_count": null,
   "id": "3a8ebf72-f0d4-4f8e-88ed-d23c30595bb4",
   "metadata": {},
   "outputs": [],
   "source": []
  }
 ],
 "metadata": {
  "kernelspec": {
   "display_name": "Python 3 (ipykernel)",
   "language": "python",
   "name": "python3"
  },
  "language_info": {
   "codemirror_mode": {
    "name": "ipython",
    "version": 3
   },
   "file_extension": ".py",
   "mimetype": "text/x-python",
   "name": "python",
   "nbconvert_exporter": "python",
   "pygments_lexer": "ipython3",
   "version": "3.8.10"
  }
 },
 "nbformat": 4,
 "nbformat_minor": 5
}

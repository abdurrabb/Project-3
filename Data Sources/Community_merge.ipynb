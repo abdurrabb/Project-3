{
 "cells": [
  {
   "cell_type": "code",
   "execution_count": 1,
   "id": "acfe1824-5023-4f0b-a1ae-68a7532c2d95",
   "metadata": {},
   "outputs": [],
   "source": [
    "import pandas as pd\n",
    "from collections import defaultdict"
   ]
  },
  {
   "cell_type": "code",
   "execution_count": 54,
   "id": "2f63b465-56a7-49c2-96b8-62041eef14e2",
   "metadata": {},
   "outputs": [],
   "source": [
    "suspensions = pd.read_csv('suspensions.csv')"
   ]
  },
  {
   "cell_type": "code",
   "execution_count": 55,
   "id": "882a955a-4aac-4bd9-b0e0-13ec36287722",
   "metadata": {},
   "outputs": [],
   "source": [
    "def filter_olympic(dataframe, target_column = 'school', false_numerics=[], unique_identifiers=[]):\n",
    "    dataframe = dataframe.copy()\n",
    "    olympic = dataframe.loc[dataframe[target_column].str.contains('Olympic')].copy()\n",
    "    for column in false_numerics:\n",
    "        olympic[column] = olympic[column].apply(lambda x: str(x))\n",
    "    olympic['key'] = ''\n",
    "    for identifier in unique_identifiers:\n",
    "        olympic['key'] =  olympic['key'] + olympic[identifier]\n",
    "    olympic.set_index('key', inplace=True)\n",
    "    new_olympic = defaultdict(dict)\n",
    "    for label, content in olympic.items():\n",
    "        i = 0\n",
    "        for item in content:\n",
    "            key = content.index[i]\n",
    "            if type(item) == int:\n",
    "                if label in new_olympic[key].keys():\n",
    "                    new_olympic[key][label] += item\n",
    "                else:\n",
    "                    new_olympic[key][label] = item\n",
    "            else:\n",
    "                new_olympic[key][label] = item\n",
    "                new_olympic[key][target_column] = \"Olympic High\"\n",
    "            i += 1\n",
    "    dataframe_out = dataframe[dataframe[target_column].str.contains('Olympic') == False]\n",
    "    dataframe_out = dataframe_out.append(list(new_olympic.values()))\n",
    "    return dataframe_out"
   ]
  },
  {
   "cell_type": "code",
   "execution_count": 56,
   "id": "04758a6d-08ce-4215-adb5-f57fdb5d3601",
   "metadata": {},
   "outputs": [],
   "source": [
    "def filter_m_f(dataframe, target_column = 'school', false_numerics=[], unique_identifiers=[], filter_criteria = []):\n",
    "    dataframe = dataframe.copy()\n",
    "    olympic = pd.DataFrame()\n",
    "    for filtr in filter_criteria:\n",
    "        olympic = olympic.append(dataframe.loc[dataframe[target_column].str.contains(filtr)])\n",
    "    for column in false_numerics:\n",
    "        olympic[column] = olympic[column].apply(lambda x: str(x))\n",
    "    olympic['key'] = ''\n",
    "    for identifier in unique_identifiers:\n",
    "        olympic['key'] =  olympic['key'] + olympic[identifier]\n",
    "    olympic.set_index('key', inplace=True)\n",
    "    new_olympic = defaultdict(dict)\n",
    "    for label, content in olympic.items():\n",
    "        i = 0\n",
    "        for item in content:\n",
    "            key = content.index[i]\n",
    "            if type(item) == int:\n",
    "                if label in new_olympic[key].keys():\n",
    "                    new_olympic[key][label] += item\n",
    "                else:\n",
    "                    new_olympic[key][label] = item\n",
    "            else:\n",
    "                new_olympic[key][label] = item\n",
    "            i += 1\n",
    "    dataframe_out = pd.DataFrame()\n",
    "    dataframe_out = dataframe_out.append(list(new_olympic.values()))\n",
    "    dataframe_out.drop('sex', axis=1, inplace=True)\n",
    "    return dataframe_out"
   ]
  },
  {
   "cell_type": "code",
   "execution_count": 57,
   "id": "f2c0b936-f328-41c1-a2c4-f22747ea3983",
   "metadata": {},
   "outputs": [],
   "source": [
    "suspensions_condensed = filter_olympic(suspensions, 'school', ['year'], ['year', 'sex', 'category'])"
   ]
  },
  {
   "cell_type": "code",
   "execution_count": 58,
   "id": "a9a8021a-c47a-40f8-965e-050f95b7504d",
   "metadata": {},
   "outputs": [],
   "source": [
    "m_f = filter_m_f(suspensions_condensed, 'sex', ['year', 'id'], ['id', 'year', 'school', 'category'], ['M', 'F'])"
   ]
  },
  {
   "cell_type": "code",
   "execution_count": 64,
   "id": "35b4bbc6-19a3-4963-bee9-78dbbe98d852",
   "metadata": {},
   "outputs": [],
   "source": [
    "m_f.to_csv('suspensions_final.csv', index=False)"
   ]
  },
  {
   "cell_type": "code",
   "execution_count": 60,
   "id": "1e5701d3-77b0-4c5f-9624-0ff648f018f9",
   "metadata": {},
   "outputs": [],
   "source": [
    "absent = pd.read_csv('absenteeism.csv')"
   ]
  },
  {
   "cell_type": "code",
   "execution_count": 61,
   "id": "42016bf0-6175-4302-8cb8-5683af127a7d",
   "metadata": {},
   "outputs": [],
   "source": [
    "absenteeism_condensed = filter_olympic(suspensions, 'school', ['year'], ['year', 'sex', 'category'])"
   ]
  },
  {
   "cell_type": "code",
   "execution_count": 62,
   "id": "f43e6043-11c7-4d05-831d-c47b5f6de43c",
   "metadata": {},
   "outputs": [],
   "source": [
    "absent_gender_combined = filter_m_f(suspensions_condensed, 'sex', ['year', 'id'], ['id', 'year', 'school', 'category'], ['M', 'F'])"
   ]
  },
  {
   "cell_type": "code",
   "execution_count": 63,
   "id": "2aac06ee-98bb-4388-a632-64f25c4ed7b6",
   "metadata": {},
   "outputs": [],
   "source": [
    "absent_gender_combined.to_csv('absenteeism_final.csv', index=False)"
   ]
  },
  {
   "cell_type": "code",
   "execution_count": 2,
   "id": "e8ff6e0f-ee6a-43bd-8bfb-1109c95881ba",
   "metadata": {},
   "outputs": [],
   "source": [
    "melt_amendment = pd.read_csv('absenteeism_final.csv')"
   ]
  },
  {
   "cell_type": "code",
   "execution_count": 3,
   "id": "a170cf2a-6816-4c5b-9cc9-9ae695fb7285",
   "metadata": {},
   "outputs": [
    {
     "data": {
      "text/html": [
       "<div>\n",
       "<style scoped>\n",
       "    .dataframe tbody tr th:only-of-type {\n",
       "        vertical-align: middle;\n",
       "    }\n",
       "\n",
       "    .dataframe tbody tr th {\n",
       "        vertical-align: top;\n",
       "    }\n",
       "\n",
       "    .dataframe thead th {\n",
       "        text-align: right;\n",
       "    }\n",
       "</style>\n",
       "<table border=\"1\" class=\"dataframe\">\n",
       "  <thead>\n",
       "    <tr style=\"text-align: right;\">\n",
       "      <th></th>\n",
       "      <th>lea_state</th>\n",
       "      <th>lea</th>\n",
       "      <th>school_state</th>\n",
       "      <th>school</th>\n",
       "      <th>id</th>\n",
       "      <th>year</th>\n",
       "      <th>category</th>\n",
       "      <th>american_indian</th>\n",
       "      <th>asian</th>\n",
       "      <th>pacific_island</th>\n",
       "      <th>hispanic</th>\n",
       "      <th>black</th>\n",
       "      <th>white</th>\n",
       "      <th>two_or_more</th>\n",
       "      <th>total</th>\n",
       "      <th>swd_idea</th>\n",
       "      <th>swd_401</th>\n",
       "      <th>el</th>\n",
       "    </tr>\n",
       "  </thead>\n",
       "  <tbody>\n",
       "    <tr>\n",
       "      <th>0</th>\n",
       "      <td>NC</td>\n",
       "      <td>Charlotte-Mecklenburg Schools</td>\n",
       "      <td>NC</td>\n",
       "      <td>Ardrey Kell High</td>\n",
       "      <td>600302</td>\n",
       "      <td>2015</td>\n",
       "      <td>School days missed due to out-of-school suspen...</td>\n",
       "      <td>0</td>\n",
       "      <td>2</td>\n",
       "      <td>0</td>\n",
       "      <td>36</td>\n",
       "      <td>391</td>\n",
       "      <td>99</td>\n",
       "      <td>12</td>\n",
       "      <td>540</td>\n",
       "      <td>23</td>\n",
       "      <td>0</td>\n",
       "      <td>0</td>\n",
       "    </tr>\n",
       "    <tr>\n",
       "      <th>1</th>\n",
       "      <td>NC</td>\n",
       "      <td>Charlotte-Mecklenburg Schools</td>\n",
       "      <td>NC</td>\n",
       "      <td>Ardrey Kell High</td>\n",
       "      <td>600302</td>\n",
       "      <td>2015</td>\n",
       "      <td>Total enrollment</td>\n",
       "      <td>4</td>\n",
       "      <td>454</td>\n",
       "      <td>4</td>\n",
       "      <td>235</td>\n",
       "      <td>355</td>\n",
       "      <td>1759</td>\n",
       "      <td>70</td>\n",
       "      <td>2881</td>\n",
       "      <td>167</td>\n",
       "      <td>64</td>\n",
       "      <td>73</td>\n",
       "    </tr>\n",
       "    <tr>\n",
       "      <th>2</th>\n",
       "      <td>NC</td>\n",
       "      <td>Charlotte-Mecklenburg Schools</td>\n",
       "      <td>NC</td>\n",
       "      <td>Ardrey Kell High</td>\n",
       "      <td>600302</td>\n",
       "      <td>2017</td>\n",
       "      <td>School days missed due to out-of-school suspen...</td>\n",
       "      <td>0</td>\n",
       "      <td>14</td>\n",
       "      <td>0</td>\n",
       "      <td>22</td>\n",
       "      <td>43</td>\n",
       "      <td>160</td>\n",
       "      <td>1</td>\n",
       "      <td>240</td>\n",
       "      <td>9</td>\n",
       "      <td>3</td>\n",
       "      <td>8</td>\n",
       "    </tr>\n",
       "    <tr>\n",
       "      <th>3</th>\n",
       "      <td>NC</td>\n",
       "      <td>Charlotte-Mecklenburg Schools</td>\n",
       "      <td>NC</td>\n",
       "      <td>Butler High</td>\n",
       "      <td>600361</td>\n",
       "      <td>2015</td>\n",
       "      <td>School days missed due to out-of-school suspen...</td>\n",
       "      <td>0</td>\n",
       "      <td>1</td>\n",
       "      <td>0</td>\n",
       "      <td>280</td>\n",
       "      <td>528</td>\n",
       "      <td>179</td>\n",
       "      <td>26</td>\n",
       "      <td>1014</td>\n",
       "      <td>90</td>\n",
       "      <td>48</td>\n",
       "      <td>117</td>\n",
       "    </tr>\n",
       "    <tr>\n",
       "      <th>4</th>\n",
       "      <td>NC</td>\n",
       "      <td>Charlotte-Mecklenburg Schools</td>\n",
       "      <td>NC</td>\n",
       "      <td>Butler High</td>\n",
       "      <td>600361</td>\n",
       "      <td>2015</td>\n",
       "      <td>Total enrollment</td>\n",
       "      <td>10</td>\n",
       "      <td>88</td>\n",
       "      <td>2</td>\n",
       "      <td>409</td>\n",
       "      <td>676</td>\n",
       "      <td>853</td>\n",
       "      <td>88</td>\n",
       "      <td>2126</td>\n",
       "      <td>170</td>\n",
       "      <td>64</td>\n",
       "      <td>103</td>\n",
       "    </tr>\n",
       "  </tbody>\n",
       "</table>\n",
       "</div>"
      ],
      "text/plain": [
       "  lea_state                            lea school_state            school  \\\n",
       "0        NC  Charlotte-Mecklenburg Schools           NC  Ardrey Kell High   \n",
       "1        NC  Charlotte-Mecklenburg Schools           NC  Ardrey Kell High   \n",
       "2        NC  Charlotte-Mecklenburg Schools           NC  Ardrey Kell High   \n",
       "3        NC  Charlotte-Mecklenburg Schools           NC       Butler High   \n",
       "4        NC  Charlotte-Mecklenburg Schools           NC       Butler High   \n",
       "\n",
       "       id  year                                           category  \\\n",
       "0  600302  2015  School days missed due to out-of-school suspen...   \n",
       "1  600302  2015                                   Total enrollment   \n",
       "2  600302  2017  School days missed due to out-of-school suspen...   \n",
       "3  600361  2015  School days missed due to out-of-school suspen...   \n",
       "4  600361  2015                                   Total enrollment   \n",
       "\n",
       "   american_indian  asian  pacific_island  hispanic  black  white  \\\n",
       "0                0      2               0        36    391     99   \n",
       "1                4    454               4       235    355   1759   \n",
       "2                0     14               0        22     43    160   \n",
       "3                0      1               0       280    528    179   \n",
       "4               10     88               2       409    676    853   \n",
       "\n",
       "   two_or_more  total  swd_idea  swd_401   el  \n",
       "0           12    540        23        0    0  \n",
       "1           70   2881       167       64   73  \n",
       "2            1    240         9        3    8  \n",
       "3           26   1014        90       48  117  \n",
       "4           88   2126       170       64  103  "
      ]
     },
     "execution_count": 3,
     "metadata": {},
     "output_type": "execute_result"
    }
   ],
   "source": [
    "melt_amendment.head()"
   ]
  },
  {
   "cell_type": "code",
   "execution_count": 4,
   "id": "c8c595a6-5ab8-49b2-9df2-6ed76ed177f8",
   "metadata": {},
   "outputs": [
    {
     "data": {
      "text/plain": [
       "Index(['lea_state', 'lea', 'school_state', 'school', 'id', 'year', 'category',\n",
       "       'american_indian', 'asian', 'pacific_island', 'hispanic', 'black',\n",
       "       'white', 'two_or_more', 'total', 'swd_idea', 'swd_401', 'el'],\n",
       "      dtype='object')"
      ]
     },
     "execution_count": 4,
     "metadata": {},
     "output_type": "execute_result"
    }
   ],
   "source": [
    "melt_amendment.columns"
   ]
  },
  {
   "cell_type": "code",
   "execution_count": 14,
   "id": "027ce69f-9570-4e72-af45-a462b9e38195",
   "metadata": {},
   "outputs": [],
   "source": [
    "ids = pd.read_csv('final_school_list.csv')['school_id']"
   ]
  },
  {
   "cell_type": "code",
   "execution_count": 15,
   "id": "bed03578-1b55-462c-bbe3-719eda9b9d56",
   "metadata": {},
   "outputs": [],
   "source": [
    "final_schools = melt_amendment.loc[melt_amendment['id'].isin(ids)]"
   ]
  },
  {
   "cell_type": "code",
   "execution_count": 16,
   "id": "85c37af9-f84e-4086-a2c1-ba252206e994",
   "metadata": {},
   "outputs": [],
   "source": [
    "final_schools = pd.melt(final_schools, id_vars=['lea_state', 'lea', 'school_state', 'school', 'id', 'year', 'category'], value_vars=['american_indian', 'asian', 'pacific_island', 'hispanic', 'black',\n",
    "       'white', 'two_or_more', 'total', 'swd_idea', 'swd_401', 'el'])"
   ]
  },
  {
   "cell_type": "code",
   "execution_count": 17,
   "id": "9d9027af-3501-4184-8e00-bbee3e28a39e",
   "metadata": {},
   "outputs": [
    {
     "data": {
      "text/html": [
       "<div>\n",
       "<style scoped>\n",
       "    .dataframe tbody tr th:only-of-type {\n",
       "        vertical-align: middle;\n",
       "    }\n",
       "\n",
       "    .dataframe tbody tr th {\n",
       "        vertical-align: top;\n",
       "    }\n",
       "\n",
       "    .dataframe thead th {\n",
       "        text-align: right;\n",
       "    }\n",
       "</style>\n",
       "<table border=\"1\" class=\"dataframe\">\n",
       "  <thead>\n",
       "    <tr style=\"text-align: right;\">\n",
       "      <th></th>\n",
       "      <th>lea_state</th>\n",
       "      <th>lea</th>\n",
       "      <th>school_state</th>\n",
       "      <th>school</th>\n",
       "      <th>id</th>\n",
       "      <th>year</th>\n",
       "      <th>category</th>\n",
       "      <th>variable</th>\n",
       "      <th>value</th>\n",
       "    </tr>\n",
       "  </thead>\n",
       "  <tbody>\n",
       "    <tr>\n",
       "      <th>0</th>\n",
       "      <td>NC</td>\n",
       "      <td>Charlotte-Mecklenburg Schools</td>\n",
       "      <td>NC</td>\n",
       "      <td>Ardrey Kell High</td>\n",
       "      <td>600302</td>\n",
       "      <td>2015</td>\n",
       "      <td>School days missed due to out-of-school suspen...</td>\n",
       "      <td>american_indian</td>\n",
       "      <td>0</td>\n",
       "    </tr>\n",
       "    <tr>\n",
       "      <th>1</th>\n",
       "      <td>NC</td>\n",
       "      <td>Charlotte-Mecklenburg Schools</td>\n",
       "      <td>NC</td>\n",
       "      <td>Ardrey Kell High</td>\n",
       "      <td>600302</td>\n",
       "      <td>2015</td>\n",
       "      <td>Total enrollment</td>\n",
       "      <td>american_indian</td>\n",
       "      <td>4</td>\n",
       "    </tr>\n",
       "    <tr>\n",
       "      <th>2</th>\n",
       "      <td>NC</td>\n",
       "      <td>Charlotte-Mecklenburg Schools</td>\n",
       "      <td>NC</td>\n",
       "      <td>Ardrey Kell High</td>\n",
       "      <td>600302</td>\n",
       "      <td>2017</td>\n",
       "      <td>School days missed due to out-of-school suspen...</td>\n",
       "      <td>american_indian</td>\n",
       "      <td>0</td>\n",
       "    </tr>\n",
       "    <tr>\n",
       "      <th>3</th>\n",
       "      <td>NC</td>\n",
       "      <td>Charlotte-Mecklenburg Schools</td>\n",
       "      <td>NC</td>\n",
       "      <td>Butler High</td>\n",
       "      <td>600361</td>\n",
       "      <td>2015</td>\n",
       "      <td>School days missed due to out-of-school suspen...</td>\n",
       "      <td>american_indian</td>\n",
       "      <td>0</td>\n",
       "    </tr>\n",
       "    <tr>\n",
       "      <th>4</th>\n",
       "      <td>NC</td>\n",
       "      <td>Charlotte-Mecklenburg Schools</td>\n",
       "      <td>NC</td>\n",
       "      <td>Butler High</td>\n",
       "      <td>600361</td>\n",
       "      <td>2015</td>\n",
       "      <td>Total enrollment</td>\n",
       "      <td>american_indian</td>\n",
       "      <td>10</td>\n",
       "    </tr>\n",
       "  </tbody>\n",
       "</table>\n",
       "</div>"
      ],
      "text/plain": [
       "  lea_state                            lea school_state            school  \\\n",
       "0        NC  Charlotte-Mecklenburg Schools           NC  Ardrey Kell High   \n",
       "1        NC  Charlotte-Mecklenburg Schools           NC  Ardrey Kell High   \n",
       "2        NC  Charlotte-Mecklenburg Schools           NC  Ardrey Kell High   \n",
       "3        NC  Charlotte-Mecklenburg Schools           NC       Butler High   \n",
       "4        NC  Charlotte-Mecklenburg Schools           NC       Butler High   \n",
       "\n",
       "       id  year                                           category  \\\n",
       "0  600302  2015  School days missed due to out-of-school suspen...   \n",
       "1  600302  2015                                   Total enrollment   \n",
       "2  600302  2017  School days missed due to out-of-school suspen...   \n",
       "3  600361  2015  School days missed due to out-of-school suspen...   \n",
       "4  600361  2015                                   Total enrollment   \n",
       "\n",
       "          variable  value  \n",
       "0  american_indian      0  \n",
       "1  american_indian      4  \n",
       "2  american_indian      0  \n",
       "3  american_indian      0  \n",
       "4  american_indian     10  "
      ]
     },
     "execution_count": 17,
     "metadata": {},
     "output_type": "execute_result"
    }
   ],
   "source": [
    "final_schools.head()"
   ]
  },
  {
   "cell_type": "code",
   "execution_count": 19,
   "id": "24fbc69e-b4a8-4edc-b800-de3ba980b854",
   "metadata": {},
   "outputs": [],
   "source": [
    "suspension = pd.read_csv('suspensions_final.csv')\n",
    "suspension_schools = melt_amendment.loc[melt_amendment['id'].isin(ids)]\n",
    "suspension_schools = pd.melt(suspension_schools, id_vars=['lea_state', 'lea', 'school_state', 'school', 'id', 'year', 'category'], value_vars=['american_indian', 'asian', 'pacific_island', 'hispanic', 'black',\n",
    "       'white', 'two_or_more', 'total', 'swd_idea', 'swd_401', 'el'])"
   ]
  },
  {
   "cell_type": "code",
   "execution_count": 20,
   "id": "c9aa2dd4-4961-4cc1-b912-99a6e702e52a",
   "metadata": {},
   "outputs": [],
   "source": [
    "final_schools.to_csv('absenteeism_melt.csv')\n",
    "suspension_schools.to_csv('suspension_melt.csv')"
   ]
  },
  {
   "cell_type": "code",
   "execution_count": null,
   "id": "29b1161e-5a0c-4f5c-98ae-defc15684bc4",
   "metadata": {},
   "outputs": [],
   "source": []
  }
 ],
 "metadata": {
  "kernelspec": {
   "display_name": "Python 3",
   "language": "python",
   "name": "python3"
  },
  "language_info": {
   "codemirror_mode": {
    "name": "ipython",
    "version": 3
   },
   "file_extension": ".py",
   "mimetype": "text/x-python",
   "name": "python",
   "nbconvert_exporter": "python",
   "pygments_lexer": "ipython3",
   "version": "3.8.8"
  }
 },
 "nbformat": 4,
 "nbformat_minor": 5
}

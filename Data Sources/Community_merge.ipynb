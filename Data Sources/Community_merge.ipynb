{
 "cells": [
  {
   "cell_type": "code",
   "execution_count": 1,
   "id": "acfe1824-5023-4f0b-a1ae-68a7532c2d95",
   "metadata": {},
   "outputs": [],
   "source": [
    "import pandas as pd\n",
    "from collections import defaultdict"
   ]
  },
  {
   "cell_type": "code",
   "execution_count": 54,
   "id": "2f63b465-56a7-49c2-96b8-62041eef14e2",
   "metadata": {},
   "outputs": [],
   "source": [
    "suspensions = pd.read_csv('suspensions.csv')"
   ]
  },
  {
   "cell_type": "code",
   "execution_count": 55,
   "id": "882a955a-4aac-4bd9-b0e0-13ec36287722",
   "metadata": {},
   "outputs": [],
   "source": [
    "def filter_olympic(dataframe, target_column = 'school', false_numerics=[], unique_identifiers=[]):\n",
    "    dataframe = dataframe.copy()\n",
    "    olympic = dataframe.loc[dataframe[target_column].str.contains('Olympic')].copy()\n",
    "    for column in false_numerics:\n",
    "        olympic[column] = olympic[column].apply(lambda x: str(x))\n",
    "    olympic['key'] = ''\n",
    "    for identifier in unique_identifiers:\n",
    "        olympic['key'] =  olympic['key'] + olympic[identifier]\n",
    "    olympic.set_index('key', inplace=True)\n",
    "    new_olympic = defaultdict(dict)\n",
    "    for label, content in olympic.items():\n",
    "        i = 0\n",
    "        for item in content:\n",
    "            key = content.index[i]\n",
    "            if type(item) == int:\n",
    "                if label in new_olympic[key].keys():\n",
    "                    new_olympic[key][label] += item\n",
    "                else:\n",
    "                    new_olympic[key][label] = item\n",
    "            else:\n",
    "                new_olympic[key][label] = item\n",
    "                new_olympic[key][target_column] = \"Olympic High\"\n",
    "            i += 1\n",
    "    dataframe_out = dataframe[dataframe[target_column].str.contains('Olympic') == False]\n",
    "    dataframe_out = dataframe_out.append(list(new_olympic.values()))\n",
    "    return dataframe_out"
   ]
  },
  {
   "cell_type": "code",
   "execution_count": 56,
   "id": "04758a6d-08ce-4215-adb5-f57fdb5d3601",
   "metadata": {},
   "outputs": [],
   "source": [
    "def filter_m_f(dataframe, target_column = 'school', false_numerics=[], unique_identifiers=[], filter_criteria = []):\n",
    "    dataframe = dataframe.copy()\n",
    "    olympic = pd.DataFrame()\n",
    "    for filtr in filter_criteria:\n",
    "        olympic = olympic.append(dataframe.loc[dataframe[target_column].str.contains(filtr)])\n",
    "    for column in false_numerics:\n",
    "        olympic[column] = olympic[column].apply(lambda x: str(x))\n",
    "    olympic['key'] = ''\n",
    "    for identifier in unique_identifiers:\n",
    "        olympic['key'] =  olympic['key'] + olympic[identifier]\n",
    "    olympic.set_index('key', inplace=True)\n",
    "    new_olympic = defaultdict(dict)\n",
    "    for label, content in olympic.items():\n",
    "        i = 0\n",
    "        for item in content:\n",
    "            key = content.index[i]\n",
    "            if type(item) == int:\n",
    "                if label in new_olympic[key].keys():\n",
    "                    new_olympic[key][label] += item\n",
    "                else:\n",
    "                    new_olympic[key][label] = item\n",
    "            else:\n",
    "                new_olympic[key][label] = item\n",
    "            i += 1\n",
    "    dataframe_out = pd.DataFrame()\n",
    "    dataframe_out = dataframe_out.append(list(new_olympic.values()))\n",
    "    dataframe_out.drop('sex', axis=1, inplace=True)\n",
    "    return dataframe_out"
   ]
  },
  {
   "cell_type": "code",
   "execution_count": 57,
   "id": "f2c0b936-f328-41c1-a2c4-f22747ea3983",
   "metadata": {},
   "outputs": [],
   "source": [
    "suspensions_condensed = filter_olympic(suspensions, 'school', ['year'], ['year', 'sex', 'category'])"
   ]
  },
  {
   "cell_type": "code",
   "execution_count": 58,
   "id": "a9a8021a-c47a-40f8-965e-050f95b7504d",
   "metadata": {},
   "outputs": [],
   "source": [
    "m_f = filter_m_f(suspensions_condensed, 'sex', ['year', 'id'], ['id', 'year', 'school', 'category'], ['M', 'F'])"
   ]
  },
  {
   "cell_type": "code",
   "execution_count": 64,
   "id": "35b4bbc6-19a3-4963-bee9-78dbbe98d852",
   "metadata": {},
   "outputs": [],
   "source": [
    "m_f.to_csv('suspensions_final.csv', index=False)"
   ]
  },
  {
   "cell_type": "code",
   "execution_count": 60,
   "id": "1e5701d3-77b0-4c5f-9624-0ff648f018f9",
   "metadata": {},
   "outputs": [],
   "source": [
    "absent = pd.read_csv('absenteeism.csv')"
   ]
  },
  {
   "cell_type": "code",
   "execution_count": 61,
   "id": "42016bf0-6175-4302-8cb8-5683af127a7d",
   "metadata": {},
   "outputs": [],
   "source": [
    "absenteeism_condensed = filter_olympic(suspensions, 'school', ['year'], ['year', 'sex', 'category'])"
   ]
  },
  {
   "cell_type": "code",
   "execution_count": 62,
   "id": "f43e6043-11c7-4d05-831d-c47b5f6de43c",
   "metadata": {},
   "outputs": [],
   "source": [
    "absent_gender_combined = filter_m_f(suspensions_condensed, 'sex', ['year', 'id'], ['id', 'year', 'school', 'category'], ['M', 'F'])"
   ]
  },
  {
   "cell_type": "code",
   "execution_count": 63,
   "id": "2aac06ee-98bb-4388-a632-64f25c4ed7b6",
   "metadata": {},
   "outputs": [],
   "source": [
    "absent_gender_combined.to_csv('absenteeism_final.csv', index=False)"
   ]
  },
  {
   "cell_type": "code",
   "execution_count": null,
   "id": "e8ff6e0f-ee6a-43bd-8bfb-1109c95881ba",
   "metadata": {},
   "outputs": [],
   "source": []
  }
 ],
 "metadata": {
  "kernelspec": {
   "display_name": "Python 3",
   "language": "python",
   "name": "python3"
  },
  "language_info": {
   "codemirror_mode": {
    "name": "ipython",
    "version": 3
   },
   "file_extension": ".py",
   "mimetype": "text/x-python",
   "name": "python",
   "nbconvert_exporter": "python",
   "pygments_lexer": "ipython3",
   "version": "3.8.8"
  }
 },
 "nbformat": 4,
 "nbformat_minor": 5
}
